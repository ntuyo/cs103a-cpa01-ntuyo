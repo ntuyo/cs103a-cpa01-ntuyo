{
 "cells": [
  {
   "cell_type": "code",
   "execution_count": 1,
   "id": "ae62da8e",
   "metadata": {},
   "outputs": [],
   "source": [
    "%matplotlib inline\n",
    "import pandas as pd\n",
    "import matplotlib.pyplot as plt\n",
    "import seaborn as sns\n",
    "import csv\n",
    "sns.set(style=\"darkgrid\")"
   ]
  },
  {
   "cell_type": "markdown",
   "id": "1c9149e9",
   "metadata": {},
   "source": [
    "## create a header cell in which you describe the dataset\n",
    "- give the URL of where to find the dataset and explain how to download it\n",
    "- give at least two interesting questions you have about the data "
   ]
  },
  {
   "cell_type": "markdown",
   "id": "02b775ac",
   "metadata": {},
   "source": [
    "Clone this GitHub Repo and navigate to the 1955 csv data all the way to 2005 (by years of 5, i.e. 1955, 1965...) . My dataset is a compilation of 1955-2005 data.\n",
    "\n",
    "https://github.com/cmusam/fortune500/blob/master/csv/fortune500-1955.csv"
   ]
  },
  {
   "cell_type": "markdown",
   "id": "44616934",
   "metadata": {},
   "source": [
    "##### Questions:\n",
    "- Which companies dropped out of the top 500 in terms of profit by 2005?\n",
    "- If any top companies went bankrupt / closed or dropped, what might've been the cause?"
   ]
  },
  {
   "cell_type": "markdown",
   "id": "ea87fa52",
   "metadata": {},
   "source": [
    "## load the data into a pandas dataframe and use pd.describe() to get a rough overview of the data"
   ]
  },
  {
   "cell_type": "code",
   "execution_count": 2,
   "id": "81fe234a",
   "metadata": {},
   "outputs": [
    {
     "data": {
      "text/plain": [
       "{'Year': '1955',\n",
       " 'Rank': '1',\n",
       " 'Company': 'General Motors',\n",
       " 'Revenue (in millions)': '9823.5',\n",
       " 'Profit (in millions)': '806'}"
      ]
     },
     "execution_count": 2,
     "metadata": {},
     "output_type": "execute_result"
    }
   ],
   "source": [
    "df = pd.read_csv('fortune500.csv', na_values=':')\n",
    "df.columns = ['year', 'rank', 'company', 'revenue', 'profit']\n",
    "\n",
    "with open(\"fortune500.csv\",'r',encoding='utf-8') as csvfile:\n",
    "    reader = csv.DictReader(csvfile)\n",
    "    data = [row for row in reader]\n",
    "    csvfile.close()\n",
    "data[0]"
   ]
  },
  {
   "cell_type": "code",
   "execution_count": 3,
   "id": "e16ad888",
   "metadata": {},
   "outputs": [
    {
     "data": {
      "text/plain": [
       "3000"
      ]
     },
     "execution_count": 3,
     "metadata": {},
     "output_type": "execute_result"
    }
   ],
   "source": [
    "len(df) "
   ]
  },
  {
   "cell_type": "code",
   "execution_count": 4,
   "id": "1f62c41b",
   "metadata": {},
   "outputs": [
    {
     "data": {
      "text/plain": [
       "year         int64\n",
       "rank         int64\n",
       "company     object\n",
       "revenue    float64\n",
       "profit      object\n",
       "dtype: object"
      ]
     },
     "execution_count": 4,
     "metadata": {},
     "output_type": "execute_result"
    }
   ],
   "source": [
    "df.dtypes"
   ]
  },
  {
   "cell_type": "code",
   "execution_count": 5,
   "id": "c625e053",
   "metadata": {
    "scrolled": true
   },
   "outputs": [
    {
     "data": {
      "text/html": [
       "<div>\n",
       "<style scoped>\n",
       "    .dataframe tbody tr th:only-of-type {\n",
       "        vertical-align: middle;\n",
       "    }\n",
       "\n",
       "    .dataframe tbody tr th {\n",
       "        vertical-align: top;\n",
       "    }\n",
       "\n",
       "    .dataframe thead th {\n",
       "        text-align: right;\n",
       "    }\n",
       "</style>\n",
       "<table border=\"1\" class=\"dataframe\">\n",
       "  <thead>\n",
       "    <tr style=\"text-align: right;\">\n",
       "      <th></th>\n",
       "      <th>year</th>\n",
       "      <th>rank</th>\n",
       "      <th>revenue</th>\n",
       "    </tr>\n",
       "  </thead>\n",
       "  <tbody>\n",
       "    <tr>\n",
       "      <th>count</th>\n",
       "      <td>3000.000000</td>\n",
       "      <td>3000.000000</td>\n",
       "      <td>3000.00000</td>\n",
       "    </tr>\n",
       "    <tr>\n",
       "      <th>mean</th>\n",
       "      <td>1980.000000</td>\n",
       "      <td>250.500000</td>\n",
       "      <td>5170.15600</td>\n",
       "    </tr>\n",
       "    <tr>\n",
       "      <th>std</th>\n",
       "      <td>17.081098</td>\n",
       "      <td>144.361341</td>\n",
       "      <td>13863.35326</td>\n",
       "    </tr>\n",
       "    <tr>\n",
       "      <th>min</th>\n",
       "      <td>1955.000000</td>\n",
       "      <td>1.000000</td>\n",
       "      <td>49.70000</td>\n",
       "    </tr>\n",
       "    <tr>\n",
       "      <th>25%</th>\n",
       "      <td>1965.000000</td>\n",
       "      <td>125.750000</td>\n",
       "      <td>315.27500</td>\n",
       "    </tr>\n",
       "    <tr>\n",
       "      <th>50%</th>\n",
       "      <td>1980.000000</td>\n",
       "      <td>250.500000</td>\n",
       "      <td>1188.45000</td>\n",
       "    </tr>\n",
       "    <tr>\n",
       "      <th>75%</th>\n",
       "      <td>1995.000000</td>\n",
       "      <td>375.250000</td>\n",
       "      <td>4805.15000</td>\n",
       "    </tr>\n",
       "    <tr>\n",
       "      <th>max</th>\n",
       "      <td>2005.000000</td>\n",
       "      <td>500.000000</td>\n",
       "      <td>288189.00000</td>\n",
       "    </tr>\n",
       "  </tbody>\n",
       "</table>\n",
       "</div>"
      ],
      "text/plain": [
       "              year         rank       revenue\n",
       "count  3000.000000  3000.000000    3000.00000\n",
       "mean   1980.000000   250.500000    5170.15600\n",
       "std      17.081098   144.361341   13863.35326\n",
       "min    1955.000000     1.000000      49.70000\n",
       "25%    1965.000000   125.750000     315.27500\n",
       "50%    1980.000000   250.500000    1188.45000\n",
       "75%    1995.000000   375.250000    4805.15000\n",
       "max    2005.000000   500.000000  288189.00000"
      ]
     },
     "execution_count": 5,
     "metadata": {},
     "output_type": "execute_result"
    }
   ],
   "source": [
    "df.describe()"
   ]
  },
  {
   "cell_type": "markdown",
   "id": "b4b90cfb",
   "metadata": {},
   "source": [
    "## analyze your data using the following features:"
   ]
  },
  {
   "cell_type": "markdown",
   "id": "969ebb82",
   "metadata": {},
   "source": [
    "### print the array of columns and the index array"
   ]
  },
  {
   "cell_type": "code",
   "execution_count": 6,
   "id": "b018aabe",
   "metadata": {},
   "outputs": [
    {
     "name": "stdout",
     "output_type": "stream",
     "text": [
      "Index(['year', 'rank', 'company', 'revenue', 'profit'], dtype='object')\n"
     ]
    },
    {
     "data": {
      "text/plain": [
       "<PandasArray>\n",
       "[   0,    1,    2,    3,    4,    5,    6,    7,    8,    9,\n",
       " ...\n",
       " 2990, 2991, 2992, 2993, 2994, 2995, 2996, 2997, 2998, 2999]\n",
       "Length: 3000, dtype: int64"
      ]
     },
     "execution_count": 6,
     "metadata": {},
     "output_type": "execute_result"
    }
   ],
   "source": [
    "print(df.columns)\n",
    "df.index.array"
   ]
  },
  {
   "cell_type": "markdown",
   "id": "6d9260f9",
   "metadata": {},
   "source": [
    "### create some simple plot of part of the data"
   ]
  },
  {
   "cell_type": "code",
   "execution_count": 7,
   "id": "e34017f7",
   "metadata": {},
   "outputs": [
    {
     "data": {
      "text/plain": [
       "<matplotlib.legend.Legend at 0x7fe50aa96070>"
      ]
     },
     "execution_count": 7,
     "metadata": {},
     "output_type": "execute_result"
    },
    {
     "data": {
      "image/png": "[encoded data removed]",
      "text/plain": [
       "<Figure size 1080x720 with 1 Axes>"
      ]
     },
     "metadata": {},
     "output_type": "display_data"
    }
   ],
   "source": [
    "plt.figure(figsize = (15, 10))\n",
    "highest_profit = [d['Profit (in millions)'] for d in data if d['Company'] == 'General Motors']\n",
    "years = [d['Year'] for d in data if d['Company'] == 'General Motors']\n",
    "\n",
    "plt.plot(years, highest_profit, label = 'GM profit')\n",
    "plt.title('General Motors Profit Increase over Five Year Increments')\n",
    "plt.legend()"
   ]
  },
  {
   "cell_type": "code",
   "execution_count": 8,
   "id": "33abe60a",
   "metadata": {},
   "outputs": [
    {
     "data": {
      "text/plain": [
       "<matplotlib.legend.Legend at 0x7fe50b272100>"
      ]
     },
     "execution_count": 8,
     "metadata": {},
     "output_type": "execute_result"
    },
    {
     "data": {
      "image/png": "[encoded data removed]",
      "text/plain": [
       "<Figure size 1080x720 with 1 Axes>"
      ]
     },
     "metadata": {},
     "output_type": "display_data"
    }
   ],
   "source": [
    "plt.figure(figsize = (15, 10))\n",
    "profit_walmart = [d['Profit (in millions)'] for d in data if d['Company'] == 'Wal-Mart Stores']\n",
    "years = [d['Year'] for d in data if d['Company'] == 'Wal-Mart Stores']\n",
    "\n",
    "plt.plot(years, profit_walmart, label = 'walmart profit')\n",
    "plt.title('Walmart Profit Increase over Five Year Increments')\n",
    "plt.legend()"
   ]
  },
  {
   "cell_type": "markdown",
   "id": "62ab6830",
   "metadata": {},
   "source": [
    "### create a pivot table and plot some data from that pivot table"
   ]
  },
  {
   "cell_type": "code",
   "execution_count": 20,
   "id": "619874bf",
   "metadata": {},
   "outputs": [
    {
     "data": {
      "text/html": [
       "<div>\n",
       "<style scoped>\n",
       "    .dataframe tbody tr th:only-of-type {\n",
       "        vertical-align: middle;\n",
       "    }\n",
       "\n",
       "    .dataframe tbody tr th {\n",
       "        vertical-align: top;\n",
       "    }\n",
       "\n",
       "    .dataframe thead th {\n",
       "        text-align: right;\n",
       "    }\n",
       "</style>\n",
       "<table border=\"1\" class=\"dataframe\">\n",
       "  <thead>\n",
       "    <tr style=\"text-align: right;\">\n",
       "      <th>company</th>\n",
       "      <th>3M</th>\n",
       "      <th>A.H. Robins</th>\n",
       "      <th>A.O. Smith</th>\n",
       "      <th>ACF Industries</th>\n",
       "      <th>AES</th>\n",
       "      <th>AFLAC</th>\n",
       "      <th>AGCO</th>\n",
       "      <th>AK Steel Holding</th>\n",
       "      <th>AM International</th>\n",
       "      <th>AMAX</th>\n",
       "      <th>...</th>\n",
       "      <th>Wyman-Gordon</th>\n",
       "      <th>Xcel Energy</th>\n",
       "      <th>Xerox</th>\n",
       "      <th>Yale &amp; Towne Manufacturing</th>\n",
       "      <th>Yellow Roadway</th>\n",
       "      <th>York International</th>\n",
       "      <th>Young (L.A.) Spring &amp; Wire</th>\n",
       "      <th>Youngstown Sheet &amp; Tube</th>\n",
       "      <th>Yum Brands</th>\n",
       "      <th>Zenith Electronics</th>\n",
       "    </tr>\n",
       "    <tr>\n",
       "      <th>year</th>\n",
       "      <th></th>\n",
       "      <th></th>\n",
       "      <th></th>\n",
       "      <th></th>\n",
       "      <th></th>\n",
       "      <th></th>\n",
       "      <th></th>\n",
       "      <th></th>\n",
       "      <th></th>\n",
       "      <th></th>\n",
       "      <th></th>\n",
       "      <th></th>\n",
       "      <th></th>\n",
       "      <th></th>\n",
       "      <th></th>\n",
       "      <th></th>\n",
       "      <th></th>\n",
       "      <th></th>\n",
       "      <th></th>\n",
       "      <th></th>\n",
       "      <th></th>\n",
       "    </tr>\n",
       "  </thead>\n",
       "  <tbody>\n",
       "    <tr>\n",
       "      <th>1955</th>\n",
       "      <td>230.9</td>\n",
       "      <td>NaN</td>\n",
       "      <td>249.6</td>\n",
       "      <td>245.1</td>\n",
       "      <td>NaN</td>\n",
       "      <td>NaN</td>\n",
       "      <td>NaN</td>\n",
       "      <td>NaN</td>\n",
       "      <td>65.4</td>\n",
       "      <td>509.5</td>\n",
       "      <td>...</td>\n",
       "      <td>NaN</td>\n",
       "      <td>NaN</td>\n",
       "      <td>NaN</td>\n",
       "      <td>87.9</td>\n",
       "      <td>NaN</td>\n",
       "      <td>93.3</td>\n",
       "      <td>53.5</td>\n",
       "      <td>428.2</td>\n",
       "      <td>NaN</td>\n",
       "      <td>138.6</td>\n",
       "    </tr>\n",
       "    <tr>\n",
       "      <th>1965</th>\n",
       "      <td>903.9</td>\n",
       "      <td>NaN</td>\n",
       "      <td>299.9</td>\n",
       "      <td>277.7</td>\n",
       "      <td>NaN</td>\n",
       "      <td>NaN</td>\n",
       "      <td>NaN</td>\n",
       "      <td>NaN</td>\n",
       "      <td>244.7</td>\n",
       "      <td>438.2</td>\n",
       "      <td>...</td>\n",
       "      <td>NaN</td>\n",
       "      <td>NaN</td>\n",
       "      <td>268.0</td>\n",
       "      <td>NaN</td>\n",
       "      <td>NaN</td>\n",
       "      <td>NaN</td>\n",
       "      <td>NaN</td>\n",
       "      <td>725.9</td>\n",
       "      <td>NaN</td>\n",
       "      <td>362.3</td>\n",
       "    </tr>\n",
       "    <tr>\n",
       "      <th>1975</th>\n",
       "      <td>2937.0</td>\n",
       "      <td>NaN</td>\n",
       "      <td>567.7</td>\n",
       "      <td>535.1</td>\n",
       "      <td>NaN</td>\n",
       "      <td>NaN</td>\n",
       "      <td>NaN</td>\n",
       "      <td>NaN</td>\n",
       "      <td>540.8</td>\n",
       "      <td>1163.4</td>\n",
       "      <td>...</td>\n",
       "      <td>NaN</td>\n",
       "      <td>NaN</td>\n",
       "      <td>3576.4</td>\n",
       "      <td>NaN</td>\n",
       "      <td>NaN</td>\n",
       "      <td>NaN</td>\n",
       "      <td>NaN</td>\n",
       "      <td>NaN</td>\n",
       "      <td>NaN</td>\n",
       "      <td>910.5</td>\n",
       "    </tr>\n",
       "    <tr>\n",
       "      <th>1985</th>\n",
       "      <td>7705.0</td>\n",
       "      <td>631.9</td>\n",
       "      <td>920.9</td>\n",
       "      <td>NaN</td>\n",
       "      <td>NaN</td>\n",
       "      <td>NaN</td>\n",
       "      <td>NaN</td>\n",
       "      <td>NaN</td>\n",
       "      <td>598.5</td>\n",
       "      <td>2398.9</td>\n",
       "      <td>...</td>\n",
       "      <td>425.5</td>\n",
       "      <td>NaN</td>\n",
       "      <td>8971.3</td>\n",
       "      <td>NaN</td>\n",
       "      <td>NaN</td>\n",
       "      <td>NaN</td>\n",
       "      <td>NaN</td>\n",
       "      <td>NaN</td>\n",
       "      <td>NaN</td>\n",
       "      <td>1716.0</td>\n",
       "    </tr>\n",
       "    <tr>\n",
       "      <th>1995</th>\n",
       "      <td>15079.0</td>\n",
       "      <td>NaN</td>\n",
       "      <td>NaN</td>\n",
       "      <td>NaN</td>\n",
       "      <td>NaN</td>\n",
       "      <td>6110.8</td>\n",
       "      <td>NaN</td>\n",
       "      <td>NaN</td>\n",
       "      <td>NaN</td>\n",
       "      <td>NaN</td>\n",
       "      <td>...</td>\n",
       "      <td>NaN</td>\n",
       "      <td>2486.5</td>\n",
       "      <td>17837.0</td>\n",
       "      <td>NaN</td>\n",
       "      <td>2867.5</td>\n",
       "      <td>2421.9</td>\n",
       "      <td>NaN</td>\n",
       "      <td>NaN</td>\n",
       "      <td>NaN</td>\n",
       "      <td>NaN</td>\n",
       "    </tr>\n",
       "    <tr>\n",
       "      <th>2005</th>\n",
       "      <td>20011.0</td>\n",
       "      <td>NaN</td>\n",
       "      <td>NaN</td>\n",
       "      <td>NaN</td>\n",
       "      <td>9887.0</td>\n",
       "      <td>13281.0</td>\n",
       "      <td>5273.3</td>\n",
       "      <td>5243.1</td>\n",
       "      <td>NaN</td>\n",
       "      <td>NaN</td>\n",
       "      <td>...</td>\n",
       "      <td>NaN</td>\n",
       "      <td>8506.7</td>\n",
       "      <td>15722.0</td>\n",
       "      <td>NaN</td>\n",
       "      <td>6767.5</td>\n",
       "      <td>4510.1</td>\n",
       "      <td>NaN</td>\n",
       "      <td>NaN</td>\n",
       "      <td>9011.0</td>\n",
       "      <td>NaN</td>\n",
       "    </tr>\n",
       "  </tbody>\n",
       "</table>\n",
       "<p>6 rows × 1410 columns</p>\n",
       "</div>"
      ],
      "text/plain": [
       "company       3M  A.H. Robins  A.O. Smith  ACF Industries     AES    AFLAC  \\\n",
       "year                                                                         \n",
       "1955       230.9          NaN       249.6           245.1     NaN      NaN   \n",
       "1965       903.9          NaN       299.9           277.7     NaN      NaN   \n",
       "1975      2937.0          NaN       567.7           535.1     NaN      NaN   \n",
       "1985      7705.0        631.9       920.9             NaN     NaN      NaN   \n",
       "1995     15079.0          NaN         NaN             NaN     NaN   6110.8   \n",
       "2005     20011.0          NaN         NaN             NaN  9887.0  13281.0   \n",
       "\n",
       "company    AGCO  AK Steel Holding  AM International    AMAX  ...  \\\n",
       "year                                                         ...   \n",
       "1955        NaN               NaN              65.4   509.5  ...   \n",
       "1965        NaN               NaN             244.7   438.2  ...   \n",
       "1975        NaN               NaN             540.8  1163.4  ...   \n",
       "1985        NaN               NaN             598.5  2398.9  ...   \n",
       "1995        NaN               NaN               NaN     NaN  ...   \n",
       "2005     5273.3            5243.1               NaN     NaN  ...   \n",
       "\n",
       "company  Wyman-Gordon  Xcel Energy    Xerox  Yale & Towne Manufacturing  \\\n",
       "year                                                                      \n",
       "1955              NaN          NaN      NaN                        87.9   \n",
       "1965              NaN          NaN    268.0                         NaN   \n",
       "1975              NaN          NaN   3576.4                         NaN   \n",
       "1985            425.5          NaN   8971.3                         NaN   \n",
       "1995              NaN       2486.5  17837.0                         NaN   \n",
       "2005              NaN       8506.7  15722.0                         NaN   \n",
       "\n",
       "company  Yellow Roadway  York International  Young (L.A.) Spring & Wire  \\\n",
       "year                                                                      \n",
       "1955                NaN                93.3                        53.5   \n",
       "1965                NaN                 NaN                         NaN   \n",
       "1975                NaN                 NaN                         NaN   \n",
       "1985                NaN                 NaN                         NaN   \n",
       "1995             2867.5              2421.9                         NaN   \n",
       "2005             6767.5              4510.1                         NaN   \n",
       "\n",
       "company  Youngstown Sheet & Tube  Yum Brands  Zenith Electronics  \n",
       "year                                                              \n",
       "1955                       428.2         NaN               138.6  \n",
       "1965                       725.9         NaN               362.3  \n",
       "1975                         NaN         NaN               910.5  \n",
       "1985                         NaN         NaN              1716.0  \n",
       "1995                         NaN         NaN                 NaN  \n",
       "2005                         NaN      9011.0                 NaN  \n",
       "\n",
       "[6 rows x 1410 columns]"
      ]
     },
     "execution_count": 20,
     "metadata": {},
     "output_type": "execute_result"
    }
   ],
   "source": [
    "# Revenue of companies over 5 year periods ( in millions)\n",
    "companypt = pd.pivot_table(df, values = 'revenue', index ='year', columns = 'company')\n",
    "companypt                                                                                              "
   ]
  },
  {
   "cell_type": "code",
   "execution_count": 21,
   "id": "1951a92e-fa0f-4c66-8422-5eaef2054b62",
   "metadata": {},
   "outputs": [
    {
     "data": {
      "text/plain": [
       "<matplotlib.legend.Legend at 0x7fe50b666d60>"
      ]
     },
     "execution_count": 21,
     "metadata": {},
     "output_type": "execute_result"
    },
    {
     "data": {
      "image/png": "[encoded data removed]",
      "text/plain": [
       "<Figure size 1080x720 with 1 Axes>"
      ]
     },
     "metadata": {},
     "output_type": "display_data"
    }
   ],
   "source": [
    "plt.figure(figsize = (15, 10))\n",
    "z = companypt['Zenith Electronics']\n",
    "g = companypt['General Motors']\n",
    "y = companypt['Yum Brands']\n",
    "plt.plot(z, label = \"Zenith Electronics\")\n",
    "plt.plot(g, label = \"GM\")\n",
    "plt.plot(y, label = \"Yum\")\n",
    "plt.legend()"
   ]
  },
  {
   "cell_type": "markdown",
   "id": "d0c79b74",
   "metadata": {},
   "source": [
    "### use the groupby feature"
   ]
  },
  {
   "cell_type": "code",
   "execution_count": 10,
   "id": "67c99f73",
   "metadata": {},
   "outputs": [
    {
     "data": {
      "text/html": [
       "<div>\n",
       "<style scoped>\n",
       "    .dataframe tbody tr th:only-of-type {\n",
       "        vertical-align: middle;\n",
       "    }\n",
       "\n",
       "    .dataframe tbody tr th {\n",
       "        vertical-align: top;\n",
       "    }\n",
       "\n",
       "    .dataframe thead th {\n",
       "        text-align: right;\n",
       "    }\n",
       "</style>\n",
       "<table border=\"1\" class=\"dataframe\">\n",
       "  <thead>\n",
       "    <tr style=\"text-align: right;\">\n",
       "      <th></th>\n",
       "      <th></th>\n",
       "      <th>year</th>\n",
       "      <th>rank</th>\n",
       "    </tr>\n",
       "    <tr>\n",
       "      <th>revenue</th>\n",
       "      <th>company</th>\n",
       "      <th></th>\n",
       "      <th></th>\n",
       "    </tr>\n",
       "  </thead>\n",
       "  <tbody>\n",
       "    <tr>\n",
       "      <th rowspan=\"2\" valign=\"top\">49.7</th>\n",
       "      <th>Copperweld Steel</th>\n",
       "      <td>1955</td>\n",
       "      <td>500</td>\n",
       "    </tr>\n",
       "    <tr>\n",
       "      <th>Goodall-Sanford</th>\n",
       "      <td>1955</td>\n",
       "      <td>499</td>\n",
       "    </tr>\n",
       "    <tr>\n",
       "      <th>50.1</th>\n",
       "      <th>Cuban-American Sugar</th>\n",
       "      <td>1955</td>\n",
       "      <td>498</td>\n",
       "    </tr>\n",
       "    <tr>\n",
       "      <th rowspan=\"2\" valign=\"top\">50.2</th>\n",
       "      <th>Bullard</th>\n",
       "      <td>1955</td>\n",
       "      <td>497</td>\n",
       "    </tr>\n",
       "    <tr>\n",
       "      <th>Signal Oil Gas</th>\n",
       "      <td>1955</td>\n",
       "      <td>496</td>\n",
       "    </tr>\n",
       "    <tr>\n",
       "      <th>...</th>\n",
       "      <th>...</th>\n",
       "      <td>...</td>\n",
       "      <td>...</td>\n",
       "    </tr>\n",
       "    <tr>\n",
       "      <th>154951.2</th>\n",
       "      <th>General Motors</th>\n",
       "      <td>1995</td>\n",
       "      <td>1</td>\n",
       "    </tr>\n",
       "    <tr>\n",
       "      <th>172233.0</th>\n",
       "      <th>Ford Motor</th>\n",
       "      <td>2005</td>\n",
       "      <td>4</td>\n",
       "    </tr>\n",
       "    <tr>\n",
       "      <th>193517.0</th>\n",
       "      <th>General Motors</th>\n",
       "      <td>2005</td>\n",
       "      <td>3</td>\n",
       "    </tr>\n",
       "    <tr>\n",
       "      <th>270772.0</th>\n",
       "      <th>Exxon Mobil</th>\n",
       "      <td>2005</td>\n",
       "      <td>2</td>\n",
       "    </tr>\n",
       "    <tr>\n",
       "      <th>288189.0</th>\n",
       "      <th>Wal-Mart Stores</th>\n",
       "      <td>2005</td>\n",
       "      <td>1</td>\n",
       "    </tr>\n",
       "  </tbody>\n",
       "</table>\n",
       "<p>3000 rows × 2 columns</p>\n",
       "</div>"
      ],
      "text/plain": [
       "                               year  rank\n",
       "revenue  company                         \n",
       "49.7     Copperweld Steel      1955   500\n",
       "         Goodall-Sanford       1955   499\n",
       "50.1     Cuban-American Sugar  1955   498\n",
       "50.2     Bullard               1955   497\n",
       "         Signal Oil Gas        1955   496\n",
       "...                             ...   ...\n",
       "154951.2 General Motors        1995     1\n",
       "172233.0 Ford Motor            2005     4\n",
       "193517.0 General Motors        2005     3\n",
       "270772.0 Exxon Mobil           2005     2\n",
       "288189.0 Wal-Mart Stores       2005     1\n",
       "\n",
       "[3000 rows x 2 columns]"
      ]
     },
     "execution_count": 10,
     "metadata": {},
     "output_type": "execute_result"
    }
   ],
   "source": [
    "df.groupby(['revenue','company']).mean()"
   ]
  },
  {
   "cell_type": "markdown",
   "id": "742d0932",
   "metadata": {},
   "source": [
    "### create a discussion cell in which you discuss what your analysis tells you about the data"
   ]
  },
  {
   "cell_type": "markdown",
   "id": "d11fba33",
   "metadata": {},
   "source": [
    "The revenue of various companies changed significantly from 1955 to 2005. From what I can tell, this is due to the fact that many companies products changed with the development of technology and other customer needs at the time.\n",
    "\n",
    "In the pivot table, I noticed that some companies had NaN for their profit/revenue over these periods, and I interpreted that this means they reached fortune500 over that one period but did not make it back again for the next one (10 years later).\n",
    "\n",
    "In the groupby, I used the revenue and the company do see the companies with the lowest/highest revenue and when this was. I found that the highest revenue was from Wal-mart stores in 2005 (the latest date) and the lowest is Copperweld Steel (from 1955). These results make sense as they reflect the growth of the US marketplace over time."
   ]
  }
 ],
 "metadata": {
  "kernelspec": {
   "display_name": "Python 3",
   "language": "python",
   "name": "python3"
  },
  "language_info": {
   "codemirror_mode": {
    "name": "ipython",
    "version": 3
   },
   "file_extension": ".py",
   "mimetype": "text/x-python",
   "name": "python",
   "nbconvert_exporter": "python",
   "pygments_lexer": "ipython3",
   "version": "3.8.8"
  }
 },
 "nbformat": 4,
 "nbformat_minor": 5
}
